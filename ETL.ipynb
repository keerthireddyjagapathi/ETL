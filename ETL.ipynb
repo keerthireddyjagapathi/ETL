{
 "cells": [
  {
   "cell_type": "markdown",
   "id": "102ddb2e",
   "metadata": {},
   "source": [
    "# Extraction of JSON files"
   ]
  },
  {
   "cell_type": "code",
   "execution_count": 1,
   "id": "974556e5",
   "metadata": {},
   "outputs": [],
   "source": [
    "# Importing data from the web \n",
    "def extract():\n",
    "    import pandas as pd\n",
    "    market_cap2=pd.read_json('https://cf-courses-data.s3.us.cloud-object-storage.appdomain.cloud/IBMDeveloperSkillsNetwork-PY0221EN-SkillsNetwork/labs/module%206/Lab%20-%20Extract%20Transform%20Load/data/bank_market_cap_2.json')\n",
    "    market_cap1=pd.read_json('https://cf-courses-data.s3.us.cloud-object-storage.appdomain.cloud/IBMDeveloperSkillsNetwork-PY0221EN-SkillsNetwork/labs/module%206/Lab%20-%20Extract%20Transform%20Load/data/bank_market_cap_1.json')\n",
    "    market_cap1=market_cap1.append(market_cap2, ignore_index=True)\n",
    "    exchange_rates=pd.read_csv('https://cf-courses-data.s3.us.cloud-object-storage.appdomain.cloud/IBMDeveloperSkillsNetwork-PY0221EN-SkillsNetwork/labs/module%206/Final%20Assignment/exchange_rates.csv')\n",
    "    return market_cap1,exchange_rates\n",
    "    \n"
   ]
  },
  {
   "cell_type": "markdown",
   "id": "06449f92",
   "metadata": {},
   "source": [
    "# Transformation"
   ]
  },
  {
   "cell_type": "code",
   "execution_count": 2,
   "id": "33af0f10",
   "metadata": {},
   "outputs": [],
   "source": [
    "def transform(market_cap1,exchange_rates):\n",
    "    market_cap1['Market Cap (US$ Billion)']=market_cap1['Market Cap (US$ Billion)']*exchange_rates.loc[exchange_rates['Unnamed: 0']=='GBP','Rates'].values[0]\n",
    "    market_cap1.rename(columns={'Market Cap (US$ Billion)':'Market Cap (GBP$ Billion)'}, inplace=True)\n",
    "    market_cap1['Market Cap (GBP$ Billion)']=round(market_cap1['Market Cap (GBP$ Billion)'],3)\n",
    "    return market_cap1"
   ]
  },
  {
   "cell_type": "markdown",
   "id": "4b333dfe",
   "metadata": {},
   "source": [
    "# Load"
   ]
  },
  {
   "cell_type": "code",
   "execution_count": 3,
   "id": "a5e9925a",
   "metadata": {},
   "outputs": [],
   "source": [
    "def load(market_cap1):\n",
    "    market_cap1.to_csv('final_data.csv', index =False)"
   ]
  },
  {
   "cell_type": "markdown",
   "id": "74559ee3",
   "metadata": {},
   "source": [
    "# Logging the messages"
   ]
  },
  {
   "cell_type": "code",
   "execution_count": 4,
   "id": "a6363cc7",
   "metadata": {},
   "outputs": [],
   "source": [
    "def log(message):\n",
    "    import datetime\n",
    "    timestamp_format = '%Y-%h-%d-%H:%M:%S'\n",
    "    now = datetime.datetime.now() \n",
    "    timestamp = now.strftime(timestamp_format)\n",
    "    with open(\"logfile.txt\",\"a\") as f:\n",
    "        f.write(timestamp + ',' + message + '\\n')"
   ]
  },
  {
   "cell_type": "markdown",
   "id": "a819a7a9",
   "metadata": {},
   "source": [
    "# Execution"
   ]
  },
  {
   "cell_type": "code",
   "execution_count": 5,
   "id": "6878c10a",
   "metadata": {},
   "outputs": [
    {
     "name": "stderr",
     "output_type": "stream",
     "text": [
      "C:\\Users\\Keerthi Jagapathi\\AppData\\Local\\Temp\\ipykernel_19560\\1559369848.py:6: FutureWarning: The frame.append method is deprecated and will be removed from pandas in a future version. Use pandas.concat instead.\n",
      "  market_cap1=market_cap1.append(market_cap2, ignore_index=True)\n"
     ]
    }
   ],
   "source": [
    "log('ETL started')\n",
    "log('Step 1: Extraction has started')\n",
    "data, exchange =extract()\n",
    "log('Step 1: Extraction completed')\n",
    "log('Step 2: Transformation has started')\n",
    "final_data= transform(data,exchange)\n",
    "log('Step 2: Transformation completed')\n",
    "log('Step 3: Loading has started')\n",
    "load(final_data)\n",
    "log('DONE')"
   ]
  },
  {
   "cell_type": "code",
   "execution_count": null,
   "id": "a013612e",
   "metadata": {},
   "outputs": [],
   "source": []
  }
 ],
 "metadata": {
  "kernelspec": {
   "display_name": "Python 3 (ipykernel)",
   "language": "python",
   "name": "python3"
  },
  "language_info": {
   "codemirror_mode": {
    "name": "ipython",
    "version": 3
   },
   "file_extension": ".py",
   "mimetype": "text/x-python",
   "name": "python",
   "nbconvert_exporter": "python",
   "pygments_lexer": "ipython3",
   "version": "3.9.12"
  }
 },
 "nbformat": 4,
 "nbformat_minor": 5
}
